{
 "cells": [
  {
   "cell_type": "markdown",
   "metadata": {},
   "source": [
    "## Introduction:\n",
    "\n",
    "BZ reaction was first discovered by a Russian scientist Belousov. In this reaction the system undergoes a reaction with an oscillatory change of color. For a long time his findings were dismissed, since people were uncomfortable with an idea that system may go back and forth from the thermodynamical equilibrium. It was much later when Zhabotinsky confirmed the findings of Belousov, the reaction became so famous reaction, that UBC CHBE department decided to use that to show off CHBE research to the high school students.\n"
   ]
  },
  {
   "cell_type": "code",
   "execution_count": 8,
   "metadata": {
    "scrolled": false
   },
   "outputs": [
    {
     "data": {
      "image/jpeg": "[encoded data removed]",
      "text/html": [
       "\n",
       "        <iframe\n",
       "            width=\"400\"\n",
       "            height=\"300\"\n",
       "            src=\"https://www.youtube.com/embed/wxSa9BMPwow\"\n",
       "            frameborder=\"0\"\n",
       "            allowfullscreen\n",
       "        ></iframe>\n",
       "        "
      ],
      "text/plain": [
       "<IPython.lib.display.YouTubeVideo at 0x10e2ba4e0>"
      ]
     },
     "execution_count": 8,
     "metadata": {},
     "output_type": "execute_result"
    }
   ],
   "source": [
    "from IPython.display import YouTubeVideo\n",
    "YouTubeVideo('wxSa9BMPwow')"
   ]
  },
  {
   "cell_type": "markdown",
   "metadata": {},
   "source": [
    "The overall BZ-reaction is the oxidation of malonic\n",
    "acid by $BrO^{–}_3$ to form $CO_2$ and $H_2O$:\n",
    "\n",
    "$ 3 CH_2 (CO_2H)_2 + 4 BrO^{-}_3 \\to 4 Br^{-} + 9 CO_2 + 6 H_2 O$\n",
    "\n",
    "It looks simple, but don't be deceived by the looks. Below are shown all the reactions happening in the system."
   ]
  },
  {
   "cell_type": "code",
   "execution_count": 4,
   "metadata": {},
   "outputs": [
    {
     "data": {
      "text/html": [
       "<img src=\"http://www.scholarpedia.org/w/images/5/5f/BZ_Core_scheme.gif\" width=\"200\" height=\"200\"/>"
      ],
      "text/plain": [
       "<IPython.core.display.Image object>"
      ]
     },
     "execution_count": 4,
     "metadata": {},
     "output_type": "execute_result"
    }
   ],
   "source": [
    "from IPython.display import Image\n",
    "from IPython.core.display import HTML \n",
    "Image(url= \"http://www.scholarpedia.org/w/images/5/5f/BZ_Core_scheme.gif\", width=200, height=200)"
   ]
  },
  {
   "cell_type": "markdown",
   "metadata": {},
   "source": []
  },
  {
   "cell_type": "code",
   "execution_count": null,
   "metadata": {},
   "outputs": [],
   "source": []
  },
  {
   "cell_type": "markdown",
   "metadata": {},
   "source": [
    "## Mathematical model\n",
    "\n",
    "The simplest model to explain the BZ reaction is the oregonator model [A. Garza 2011]. In this model the important chemical species are\n",
    "\\begin{align}\n",
    "A&= {\\rm BrO_3^-}\\ ,& \\  P&= {\\rm HOBr} \\ ,& \\ B&={\\rm oxidizable\\\n",
    "organic\\ species} \\nonumber \\\\\n",
    "X&= {\\rm HBrO_2} \\ ,& \\  Y&= {\\rm Br^-} \\ ,& \\ Z&={\\rm Ce}^{4+}\n",
    "\\end{align}\n",
    "\n",
    "\n",
    "and its dynamics is described by the scheme\n",
    "\n",
    "\\begin{align}\n",
    "&A+Y \\stackrel{k_1}{\\longrightarrow} X+P  \\ (1),& \\ X+Y&\n",
    "\\stackrel{k_2}{\\longrightarrow} 2P  \\ (2),&\n",
    "\\ A+X& \\stackrel{k_3}{\\longrightarrow} 2X+2Z \\ (3), \\nonumber \\\\\n",
    "&2X \\stackrel{k_4}{\\longrightarrow} A+P \\ (4),& \\ B+Z&\n",
    "\\stackrel{k_5}{\\longrightarrow} \\frac{f}{2} Y \\ . (5)&\n",
    "\\end{align}\n",
    "\n",
    "\n",
    "The first two reactions describe the consumption of bromide\n",
    "Br$^-$, whereas the last three ones model the buildup of HBrO$_2$\n",
    "and Ce$^{4+}$ that finally leads to bromide recovery, and then to\n",
    "a new cycle.\n",
    "\n",
    "By assuming that the bromate concentration $[A]$\n",
    "remains constant as well as $[B]$, and noting that $P$ enters only\n",
    "as a passive product of the dynamics, the law of mass action leads\n",
    "to\n"
   ]
  },
  {
   "cell_type": "markdown",
   "metadata": {},
   "source": [
    "\n",
    "\n",
    "$\\frac{dX}{dt} = k_1 A Y - k_2 X Y + k_3 A X - 2 k_4 X^2$\n",
    "\n",
    "$\\frac{dY}{dt} = -k_1 A Y - k_2 X Y + k_5 \\frac{f}{2} B Z$\n",
    "\n",
    "$\\frac{dZ}{dt} = 2 k_3 A X - k_5 B Z$ \n",
    "\n",
    "\n",
    "\n",
    "In chemical engineering we always want to bring our variables to dimensionless values. We can do that here by rescaling time and concentrations:\n",
    "\n",
    "$x= \\dfrac{X}{X_0}  $,\n",
    "$y= \\dfrac{Y}{Y_0}$,\n",
    "$z= \\dfrac{Z}{Z_0}$,\n",
    "$\\tau= \\dfrac{t}{t_0}$\n",
    "\n",
    "where the scaling factors are:\n",
    "\n",
    "\n",
    "$X_0=\\frac{k_3 A}{2 k_4}$\n",
    "\n",
    "$Y_0 = \\frac{k_3 A}{k_2} $\n",
    "\n",
    "$Z_0 = \\frac{(k_3 A)^2}{k_4 k_5 B}$\n",
    "\n",
    "$t_0 = \\frac{1}{k_5 B}  $\n",
    "\n",
    "$\\epsilon_1=\\frac{k_5 B}{k_3 A} $\n",
    "\n",
    "$\\epsilon_2= \\frac{2 k_4 k_5 B}{k_2 k_3 A} $\n",
    "\n",
    "$q= \\frac{2 k_1 k_4}{k_2 k_3}$\n",
    "\n",
    "In terms of these variables, the model reads (*)\n",
    "\n",
    "$\\epsilon_1 \\frac{dx}{d\\tau} = q y -x y +x(1-x)$ \n",
    "\n",
    "$\\epsilon_2 \\frac{dy}{d\\tau} = -q y - x y + f z $\n",
    "\n",
    "$\\frac{dz}{d\\tau} =  x - z $ \n",
    "\n",
    "At certain combination of the parameter values for the system it shows an oscillatory behaviour.\n",
    "\n",
    "Use these parameters for this model:\n",
    "\n",
    "$\\epsilon_1 = 9.9 × 10^{−3}$,\n",
    "$\\epsilon_2 = 1.98×10^{−5}$,\n",
    "$q = 7.62×10^{−5}$,\n",
    "$f = 1$, \n",
    "$x(t = 0) = 0$, \n",
    "$y(t = 0) = 0.001$,\n",
    "$z(t = 0) = 0$.\n",
    "\n"
   ]
  },
  {
   "cell_type": "code",
   "execution_count": null,
   "metadata": {},
   "outputs": [],
   "source": []
  },
  {
   "cell_type": "markdown",
   "metadata": {},
   "source": [
    "## Problem statement:\n",
    "\n",
    "1. Solve the ODE (*) for the  concentrations of intermediaries X, Y, Z as well as the product P.\n",
    "2. Plot your curves\n",
    "3. What can you tell about the behvaiour of each species?\n",
    "4. Generally, the concentration of all products in chemical reactions have to increase (otherwise the entropy of the universe is decreasing and our thermodynamics teachers wouldn't be happy) However, something is clearly oscillating here. How can you explain this?\n",
    "\n",
    "5. (Bonus) Create a slider using the template that we used for our Zombie example and play with the input parameters.\n",
    "6. (Bonus) Plot a 3D plot with the concentrations of X, Y, and Z in a 3d diagram\n",
    "\n",
    "you may use the template below:\n",
    "https://matplotlib.org/mpl_toolkits/mplot3d/tutorial.html\n",
    "```python\n",
    "import matplotlib as mpl\n",
    "from mpl_toolkits.mplot3d import Axes3D\n",
    "import numpy as np\n",
    "import matplotlib.pyplot as plt\n",
    "\n",
    "mpl.rcParams['legend.fontsize'] = 10\n",
    "\n",
    "fig = plt.figure()\n",
    "ax = fig.gca(projection='3d')\n",
    "theta = np.linspace(-4 * np.pi, 4 * np.pi, 100)\n",
    "z = np.linspace(-2, 2, 100)\n",
    "r = z**2 + 1\n",
    "x = r * np.sin(theta)\n",
    "y = r * np.cos(theta)\n",
    "ax.plot(x, y, z, label='parametric curve')\n",
    "ax.legend()\n",
    "\n",
    "plt.show()\n",
    "```"
   ]
  },
  {
   "cell_type": "markdown",
   "metadata": {},
   "source": [
    "References:\n",
    "\n",
    "1. Garza 2011\n",
    "https://pdfs.semanticscholar.org/2876/0e30e84817a29a22966fcde4fd619d6eeabb.pdf\n",
    "2. R. Noyes 1989 \n",
    "https://pubs.acs.org/doi/pdf/10.1021/ed066p190"
   ]
  }
 ],
 "metadata": {
  "kernelspec": {
   "display_name": "Python 3",
   "language": "python",
   "name": "python3"
  },
  "language_info": {
   "codemirror_mode": {
    "name": "ipython",
    "version": 3
   },
   "file_extension": ".py",
   "mimetype": "text/x-python",
   "name": "python",
   "nbconvert_exporter": "python",
   "pygments_lexer": "ipython3",
   "version": "3.6.4"
  }
 },
 "nbformat": 4,
 "nbformat_minor": 2
}
